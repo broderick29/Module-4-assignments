{
 "cells": [
  {
   "cell_type": "code",
   "execution_count": 7,
   "id": "c0412ee7-e2e3-4c6a-a07a-81f4dc2682bc",
   "metadata": {},
   "outputs": [],
   "source": [
    "import csv"
   ]
  },
  {
   "cell_type": "code",
   "execution_count": null,
   "id": "42305153-45db-4cf8-833d-e3818255241d",
   "metadata": {},
   "outputs": [],
   "source": [
    "with open(\"books.csv\", \"w\") as f:\n",
    "    f.write(\"\"\"author,book\n",
    "J R R Tolkien,The Hobbit\n",
    "Lynne Truss,\"Eats, Shoots & Leaves\"\n",
    "\"\"\")"
   ]
  },
  {
   "cell_type": "code",
   "execution_count": 4,
   "id": "6a802b22-9035-4e5a-9d5f-59009ae694b2",
   "metadata": {},
   "outputs": [
    {
     "name": "stdout",
     "output_type": "stream",
     "text": [
      "{'author': 'J R R Tolkien', 'book': 'The Hobbit'}\n",
      "{'author': 'Lynne Truss', 'book': 'Eats, Shoots & Leaves'}\n"
     ]
    }
   ],
   "source": [
    "import csv\n",
    "\n",
    "with open(\"books.csv\", newline=\"\") as f:\n",
    "    books = csv.DictReader(f)\n",
    "    for row in books:\n",
    "        print(row)\n"
   ]
  },
  {
   "cell_type": "code",
   "execution_count": 6,
   "id": "2f788476-a191-46d8-ba4c-70c26482b62d",
   "metadata": {},
   "outputs": [],
   "source": [
    "with open(\"books2.csv\", \"w\") as f:\n",
    "    f.write(\"\"\"title,author,year\n",
    "The Weirdstone of Brisingamen,Alan Garner,1960\n",
    "Perdido Street Station,China Miéville,2000\n",
    "Thud!,Terry Pratchett,2005\n",
    "The Spellman Files,Lisa Lutz,2007\n",
    "Small Gods,Terry Pratchett,1992\n",
    "\"\"\")\n"
   ]
  },
  {
   "cell_type": "code",
   "execution_count": 3,
   "id": "181fbbb5-398d-4a0b-a39e-182c4d57689f",
   "metadata": {},
   "outputs": [],
   "source": [
    "import sqlite3\n",
    "\n",
    "conn = sqlite3.connect(\"books.db\")\n",
    "cur = conn.cursor()\n",
    "\n",
    "cur.execute(\"DROP TABLE IF EXISTS book\")  # in case you're re-running\n",
    "cur.execute(\"\"\"\n",
    "CREATE TABLE book (\n",
    "    title TEXT,\n",
    "    author TEXT,\n",
    "    year INTEGER\n",
    ")\n",
    "\"\"\")\n",
    "\n",
    "conn.commit()\n"
   ]
  },
  {
   "cell_type": "code",
   "execution_count": 9,
   "id": "851db925-e9f5-428d-b42e-c6bebe5b0df5",
   "metadata": {},
   "outputs": [],
   "source": [
    "with open(\"books2.csv\", newline=\"\") as f:\n",
    "    reader = csv.DictReader(f)\n",
    "    for row in reader:\n",
    "        cur.execute(\"INSERT INTO book (title, author, year) VALUES (?, ?, ?)\",\n",
    "                    (row['title'], row['author'], int(row['year'])))\n",
    "\n",
    "conn.commit()"
   ]
  },
  {
   "cell_type": "code",
   "execution_count": 11,
   "id": "6b11566d-eaa1-4078-98b1-452156277a36",
   "metadata": {},
   "outputs": [],
   "source": [
    "import sqlalchemy"
   ]
  },
  {
   "cell_type": "code",
   "execution_count": 13,
   "id": "8048970e-9d93-494f-b35a-be12a498f1b3",
   "metadata": {},
   "outputs": [
    {
     "name": "stdout",
     "output_type": "stream",
     "text": [
      "Perdido Street Station\n",
      "Small Gods\n",
      "The Spellman Files\n",
      "The Weirdstone of Brisingamen\n",
      "Thud!\n"
     ]
    }
   ],
   "source": [
    "from sqlalchemy import create_engine, Table, MetaData, select\n",
    "\n",
    "engine = create_engine(\"sqlite:///books.db\")\n",
    "metadata = MetaData()\n",
    "metadata.reflect(bind=engine)\n",
    "\n",
    "book = metadata.tables['book']\n",
    "\n",
    "with engine.connect() as conn:\n",
    "    result = conn.execute(select(book.c.title).order_by(book.c.title))\n",
    "    for row in result:\n",
    "        print(row.title)\n"
   ]
  }
 ],
 "metadata": {
  "kernelspec": {
   "display_name": "Python 3 (ipykernel)",
   "language": "python",
   "name": "python3"
  },
  "language_info": {
   "codemirror_mode": {
    "name": "ipython",
    "version": 3
   },
   "file_extension": ".py",
   "mimetype": "text/x-python",
   "name": "python",
   "nbconvert_exporter": "python",
   "pygments_lexer": "ipython3",
   "version": "3.12.7"
  }
 },
 "nbformat": 4,
 "nbformat_minor": 5
}
